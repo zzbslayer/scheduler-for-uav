{
 "cells": [
  {
   "cell_type": "code",
   "execution_count": 1,
   "id": "88802434",
   "metadata": {},
   "outputs": [],
   "source": [
    "# for some basic operations\n",
    "import numpy as np \n",
    "import pandas as pd \n",
    "\n",
    "# for visualizations\n",
    "import matplotlib.pyplot as plt\n",
    "import seaborn as sns\n",
    "plt.style.use('fivethirtyeight')\n",
    "\n",
    "# for providing path\n",
    "import os\n",
    "from datetime import datetime\n",
    "import re\n",
    "\n",
    "CSV_SEP = ','"
   ]
  },
  {
   "cell_type": "code",
   "execution_count": 2,
   "id": "ab97b5c1",
   "metadata": {},
   "outputs": [
    {
     "name": "stdout",
     "output_type": "stream",
     "text": [
      "66.249.66.194\n",
      "[22/Jan/2019:03:57:15 +0330]\n",
      "<re.Match object; span=(48, 62), match='GET /m/product'>\n"
     ]
    }
   ],
   "source": [
    "# test code block for regex\n",
    "# 54.36.149.41 - - [22/Jan/2019:03:56:14 +0330] \"GET /filter/xxx HTTP/1.1\" 200 30577 \"-\" \"Mozilla/5.0 (compatible; AhrefsBot/6.1; +http://ahrefs.com/robot/)\" \"-\"\n",
    "test = '54.36.149.41 - - [22/Jan/2019:03:56:14 +0330] \"GET /filter/xxx HTTP/1.1\" 200 30577 \"-\" \"Mozilla/5.0 (compatible; AhrefsBot/6.1; +http://ahrefs.com/robot/)\" \"-\"'\n",
    "test = '5.211.97.39 - - [22/Jan/2019:03:57:16 +0330] \"GET /image/64291/productModel/200x200 HTTP/1.1\" 200 5735 \"https://www.zanbil.ir/m/filter/p25%2Cb103%2Cb50\" \"Mozilla/5.0 (iPhone; CPU iPhone OS 10_3_2 like Mac OS X) AppleWebKit/603.2.4 (KHTML, like Gecko) Version/10.0 Mobile/14F89 Safari/602.1\" \"-\"'\n",
    "test = '66.249.66.194 - - [22/Jan/2019:03:57:15 +0330] \"GET /m/product/25958/59518/%D8%A7%D8%AA%D9%88-%D8%A8%D8%AE%D8%A7%D8%B1-%D9%BE%D8%A7%D8%B1%D8%B3-%D8%AE%D8%B2%D8%B1-%D9%85%D8%AF%D9%84-SI-602 HTTP/1.1\" 200 21178 \"-\" \"Mozilla/5.0 (Linux; Android 6.0.1; Nexus 5X Build/MMB29P) AppleWebKit/537.36 (KHTML, like Gecko) Chrome/41.0.2272.96 Mobile Safari/537.36 (compatible; Googlebot/2.1; +http://www.google.com/bot.html)\" \"-\"'\n",
    "source_pattern = re.compile('[0-9]+\\.[0-9]+\\.[0-9]+\\.[0-9]+')\n",
    "datetime_pattern = re.compile('(\\[[0-9]+/(Jan|Feb|Mar|Apr|May|Jun|Jul|Aug|Sep|Oct|Nov|Dec))/[0-9]{4}:[0-9]{2}:[0-9]{2}:[0-9]{2} \\+[0-9]{4}\\]')\n",
    "m_http_pattern = re.compile('(GET|POST|DELETE|PUT) /m/[^/]*') # HTTP/[(0-9|\\.)]*\"')\n",
    "http_pattern = re.compile('(GET|POST|DELETE|PUT) /[^/]*')\n",
    "\n",
    "source_match = source_pattern.search(test)\n",
    "datetime_match = datetime_pattern.search(test)\n",
    "m_http_match = m_http_pattern.search(test)\n",
    "if m_http_match == None:\n",
    "    http_match = http_pattern.search(test)\n",
    "else:\n",
    "    http_match = m_http_match\n",
    "    \n",
    "print(source_match.group(0))\n",
    "print(datetime_match.group(0))\n",
    "print(http_match)\n"
   ]
  },
  {
   "cell_type": "code",
   "execution_count": 3,
   "id": "200bed07",
   "metadata": {},
   "outputs": [
    {
     "name": "stdout",
     "output_type": "stream",
     "text": [
      "1548100574000.0\n",
      "/filter\n"
     ]
    }
   ],
   "source": [
    "month_translator = {\n",
    "    \"Jan\": \"01\",\n",
    "    \"Feb\": \"02\",\n",
    "    \"Mar\": \"03\",\n",
    "    \"Apr\": \"04\",\n",
    "    \"May\": \"05\",\n",
    "    \"Jun\": \"06\",\n",
    "    \"Jul\": \"07\",\n",
    "    \"Aug\": \"08\",\n",
    "    \"Sep\": \"09\",\n",
    "    \"Oct\": \"10\",\n",
    "    \"Nov\": \"11\",\n",
    "    \"Dec\": \"12\"\n",
    "}\n",
    "\n",
    "def format_datetime(raw_dt):\n",
    "    _dt = raw_dt[1:-7]\n",
    "    dt = f\"{_dt[7:11]}-{month_translator[_dt[3:6]]}-{_dt[0:2]} {_dt[12:]}\"\n",
    "    datetime_obj = datetime.strptime(dt, '%Y-%m-%d %H:%M:%S')\n",
    "    \n",
    "    return datetime_obj.timestamp()*1000 # convert to millis\n",
    "\n",
    "my_http_pattern = re.compile(\"/[\\S]*\")\n",
    "def format_http(raw_http):\n",
    "    http = my_http_pattern.search(raw_http)\n",
    "    if http == None:\n",
    "        return raw_http\n",
    "        \n",
    "    http = http.group(0)\n",
    "    if http[:3] == \"/m/\":\n",
    "        http = http[2:]\n",
    "        \n",
    "    idx = http.find('?')\n",
    "    if idx != -1:\n",
    "        http = http[:idx]\n",
    "    return http\n",
    "    \n",
    "print(format_datetime(\"[22/Jan/2019:03:56:14 +0330]\"))\n",
    "print(format_http(\"GET /m/filter HTTP/1.1\"))\n",
    "# print(format_http('\"GET /filter HTTP/1.1\"'))"
   ]
  },
  {
   "cell_type": "code",
   "execution_count": 4,
   "id": "6222ab88",
   "metadata": {},
   "outputs": [
    {
     "name": "stdout",
     "output_type": "stream",
     "text": [
      "[Info] EOF\n"
     ]
    }
   ],
   "source": [
    "cnt = 0\n",
    "with open('access_log.csv', 'w+') as csv:\n",
    "    csv.write(f\"source{CSV_SEP}datetime{CSV_SEP}http\\n\")\n",
    "    with open('./access.log', 'r') as raw:\n",
    "        try:\n",
    "            while(True):\n",
    "                raw_line = next(raw)\n",
    "                source_match = source_pattern.search(raw_line)\n",
    "                datetime_match = datetime_pattern.search(raw_line)\n",
    "                m_http_match = m_http_pattern.search(raw_line)\n",
    "                if m_http_match == None:\n",
    "                    http_match = http_pattern.search(raw_line)\n",
    "                else:\n",
    "                    http_match = m_http_match\n",
    "                \n",
    "                if source_match == None or datetime_match == None or http_match == None:\n",
    "                    #print(f\"[Error] Fail to parse line: {raw_line}\")\n",
    "                    continue\n",
    "                source = source_match.group(0)\n",
    "                dt = format_datetime(datetime_match.group(0))\n",
    "                http = format_http(http_match.group(0))\n",
    "                \n",
    "                if CSV_SEP in http:\n",
    "                    continue\n",
    "                cnt+=1\n",
    "                csv.write(f\"{source}{CSV_SEP}{dt}{CSV_SEP}{http}\\n\")\n",
    "                \n",
    "                \n",
    "        except StopIteration:\n",
    "            print(\"[Info] EOF\")\n"
   ]
  },
  {
   "cell_type": "code",
   "execution_count": 5,
   "id": "be5a2354",
   "metadata": {
    "scrolled": true
   },
   "outputs": [
    {
     "data": {
      "text/html": [
       "<div>\n",
       "<style scoped>\n",
       "    .dataframe tbody tr th:only-of-type {\n",
       "        vertical-align: middle;\n",
       "    }\n",
       "\n",
       "    .dataframe tbody tr th {\n",
       "        vertical-align: top;\n",
       "    }\n",
       "\n",
       "    .dataframe thead th {\n",
       "        text-align: right;\n",
       "    }\n",
       "</style>\n",
       "<table border=\"1\" class=\"dataframe\">\n",
       "  <thead>\n",
       "    <tr style=\"text-align: right;\">\n",
       "      <th></th>\n",
       "      <th>source</th>\n",
       "      <th>datetime</th>\n",
       "      <th>http</th>\n",
       "    </tr>\n",
       "  </thead>\n",
       "  <tbody>\n",
       "    <tr>\n",
       "      <th>0</th>\n",
       "      <td>54.36.149.41</td>\n",
       "      <td>1.548101e+12</td>\n",
       "      <td>/filter</td>\n",
       "    </tr>\n",
       "    <tr>\n",
       "      <th>1</th>\n",
       "      <td>31.56.96.51</td>\n",
       "      <td>1.548101e+12</td>\n",
       "      <td>/image</td>\n",
       "    </tr>\n",
       "    <tr>\n",
       "      <th>2</th>\n",
       "      <td>31.56.96.51</td>\n",
       "      <td>1.548101e+12</td>\n",
       "      <td>/image</td>\n",
       "    </tr>\n",
       "    <tr>\n",
       "      <th>3</th>\n",
       "      <td>40.77.167.129</td>\n",
       "      <td>1.548101e+12</td>\n",
       "      <td>/image</td>\n",
       "    </tr>\n",
       "    <tr>\n",
       "      <th>4</th>\n",
       "      <td>91.99.72.15</td>\n",
       "      <td>1.548101e+12</td>\n",
       "      <td>/product</td>\n",
       "    </tr>\n",
       "  </tbody>\n",
       "</table>\n",
       "</div>"
      ],
      "text/plain": [
       "          source      datetime      http\n",
       "0   54.36.149.41  1.548101e+12   /filter\n",
       "1    31.56.96.51  1.548101e+12    /image\n",
       "2    31.56.96.51  1.548101e+12    /image\n",
       "3  40.77.167.129  1.548101e+12    /image\n",
       "4    91.99.72.15  1.548101e+12  /product"
      ]
     },
     "execution_count": 5,
     "metadata": {},
     "output_type": "execute_result"
    }
   ],
   "source": [
    "data = pd.read_csv('./access_log.csv', sep=CSV_SEP)\n",
    "data.head()"
   ]
  },
  {
   "cell_type": "code",
   "execution_count": 6,
   "id": "f5cb7ae4",
   "metadata": {},
   "outputs": [
    {
     "name": "stdout",
     "output_type": "stream",
     "text": [
      "Unique source:\n",
      "66.249.66.194      353483\n",
      "66.249.66.91       314522\n",
      "151.239.241.163     91913\n",
      "66.249.66.92        88332\n",
      "91.99.30.32         45648\n",
      "104.222.32.91       42046\n",
      "91.99.72.15         38694\n",
      "91.99.47.57         38526\n",
      "5.78.190.233        37090\n",
      "195.181.168.181     27963\n",
      "23.101.169.3        27800\n",
      "195.181.168.164     24037\n",
      "66.249.66.93        22146\n",
      "17.58.102.43        21698\n",
      "104.222.32.94       16696\n",
      "5.160.157.20        13526\n",
      "5.117.116.238       13401\n",
      "5.160.221.38        12058\n",
      "172.20.2.174        11303\n",
      "40.77.167.156       10231\n",
      "Name: source, dtype: int64\n"
     ]
    }
   ],
   "source": [
    "print(\"Unique source:\")\n",
    "print(data.source.value_counts()[:20])"
   ]
  },
  {
   "cell_type": "code",
   "execution_count": 7,
   "id": "51af2a4e",
   "metadata": {},
   "outputs": [
    {
     "name": "stdout",
     "output_type": "stream",
     "text": [
      "Unique http:\n",
      "/image                               5682613\n",
      "/static                              1998868\n",
      "/filter                               648398\n",
      "/product                              356779\n",
      "/settings                             352037\n",
      "/site                                 240410\n",
      "/rapidGrails                          197113\n",
      "/browse                               157888\n",
      "/favicon.ico                          102822\n",
      "/amp-helper-frame.html                 91958\n",
      "/discountLabel                         50175\n",
      "/                                      36658\n",
      "/orderAdministration                   35993\n",
      "/ajaxFilter                            35060\n",
      "/plugins                               33205\n",
      "/article                               31760\n",
      "/search                                25286\n",
      "/basket                                19740\n",
      "/apple-touch-icon-precomposed.png      17874\n",
      "/apple-touch-icon.png                  16823\n",
      "Name: http, dtype: int64\n"
     ]
    }
   ],
   "source": [
    "print(\"Unique http:\")\n",
    "print(data.http.value_counts()[:20])   \n"
   ]
  },
  {
   "cell_type": "code",
   "execution_count": 8,
   "id": "5d14abdf",
   "metadata": {},
   "outputs": [
    {
     "name": "stdout",
     "output_type": "stream",
     "text": [
      "/rank1\n",
      "node1\n"
     ]
    }
   ],
   "source": [
    "https = data.http.value_counts().keys()\n",
    "cnt = 1\n",
    "http_to_vnf = dict()\n",
    "for value in https:\n",
    "    http_to_vnf[value] = f\"/rank{cnt}\"\n",
    "    cnt += 1\n",
    "    \n",
    "def map_http_to_vnf(http):\n",
    "    return http_to_vnf.get(http, http)\n",
    "    \n",
    "ips = data.source.value_counts().keys()\n",
    "cnt = 1\n",
    "ip_to_node = dict()\n",
    "for value in ips:\n",
    "    ip_to_node[value] = f\"node{cnt}\"\n",
    "    cnt += 1\n",
    "    \n",
    "def map_ip_to_node(ip):\n",
    "    return ip_to_node.get(ip, ip)\n",
    "\n",
    "print(map_http_to_vnf(\"/image\"))\n",
    "print(map_ip_to_node(\"66.249.66.194\"))"
   ]
  },
  {
   "cell_type": "code",
   "execution_count": 9,
   "id": "44c60e20",
   "metadata": {},
   "outputs": [],
   "source": [
    "with open('access_log.csv', 'w+') as csv:\n",
    "    csv.write(f\"source{CSV_SEP}datetime{CSV_SEP}http\\n\")\n",
    "    \n",
    "    for index, row in data.iterrows():\n",
    "        source = map_ip_to_node(row[\"source\"])\n",
    "        http = map_http_to_vnf(row[\"http\"])\n",
    "        dt = row[\"datetime\"]\n",
    "        csv.write(f\"{source}{CSV_SEP}{dt}{CSV_SEP}{http}\\n\")\n"
   ]
  },
  {
   "cell_type": "code",
   "execution_count": 50,
   "id": "b6f758e5",
   "metadata": {},
   "outputs": [
    {
     "data": {
      "text/html": [
       "<div>\n",
       "<style scoped>\n",
       "    .dataframe tbody tr th:only-of-type {\n",
       "        vertical-align: middle;\n",
       "    }\n",
       "\n",
       "    .dataframe tbody tr th {\n",
       "        vertical-align: top;\n",
       "    }\n",
       "\n",
       "    .dataframe thead th {\n",
       "        text-align: right;\n",
       "    }\n",
       "</style>\n",
       "<table border=\"1\" class=\"dataframe\">\n",
       "  <thead>\n",
       "    <tr style=\"text-align: right;\">\n",
       "      <th></th>\n",
       "      <th>source</th>\n",
       "      <th>datetime</th>\n",
       "      <th>http</th>\n",
       "    </tr>\n",
       "  </thead>\n",
       "  <tbody>\n",
       "    <tr>\n",
       "      <th>0</th>\n",
       "      <td>node12276</td>\n",
       "      <td>1.548101e+12</td>\n",
       "      <td>/rank3</td>\n",
       "    </tr>\n",
       "    <tr>\n",
       "      <th>1</th>\n",
       "      <td>node29099</td>\n",
       "      <td>1.548101e+12</td>\n",
       "      <td>/rank1</td>\n",
       "    </tr>\n",
       "    <tr>\n",
       "      <th>2</th>\n",
       "      <td>node29099</td>\n",
       "      <td>1.548101e+12</td>\n",
       "      <td>/rank1</td>\n",
       "    </tr>\n",
       "    <tr>\n",
       "      <th>3</th>\n",
       "      <td>node2371</td>\n",
       "      <td>1.548101e+12</td>\n",
       "      <td>/rank1</td>\n",
       "    </tr>\n",
       "    <tr>\n",
       "      <th>4</th>\n",
       "      <td>node7</td>\n",
       "      <td>1.548101e+12</td>\n",
       "      <td>/rank4</td>\n",
       "    </tr>\n",
       "  </tbody>\n",
       "</table>\n",
       "</div>"
      ],
      "text/plain": [
       "      source      datetime    http\n",
       "0  node12276  1.548101e+12  /rank3\n",
       "1  node29099  1.548101e+12  /rank1\n",
       "2  node29099  1.548101e+12  /rank1\n",
       "3   node2371  1.548101e+12  /rank1\n",
       "4      node7  1.548101e+12  /rank4"
      ]
     },
     "execution_count": 50,
     "metadata": {},
     "output_type": "execute_result"
    }
   ],
   "source": [
    "data = pd.read_csv('./access_log.csv', sep=CSV_SEP)\n",
    "data.head()"
   ]
  },
  {
   "cell_type": "code",
   "execution_count": 50,
   "id": "394e5379",
   "metadata": {},
   "outputs": [
    {
     "name": "stdout",
     "output_type": "stream",
     "text": [
      "vnf_1\n",
      "node_1\n"
     ]
    }
   ],
   "source": []
  },
  {
   "cell_type": "code",
   "execution_count": 51,
   "id": "755e4931",
   "metadata": {},
   "outputs": [
    {
     "name": "stdout",
     "output_type": "stream",
     "text": [
      "Unique time:\n",
      "2019-01-26 19:07:39    368\n",
      "Name: datetime, dtype: int64\n"
     ]
    }
   ],
   "source": [
    "print(\"Unique time:\")\n",
    "print(data.datetime.value_counts()[:1])"
   ]
  },
  {
   "cell_type": "code",
   "execution_count": null,
   "id": "2f4677b9",
   "metadata": {},
   "outputs": [],
   "source": []
  }
 ],
 "metadata": {
  "kernelspec": {
   "display_name": "Python 3 (ipykernel)",
   "language": "python",
   "name": "python3"
  },
  "language_info": {
   "codemirror_mode": {
    "name": "ipython",
    "version": 3
   },
   "file_extension": ".py",
   "mimetype": "text/x-python",
   "name": "python",
   "nbconvert_exporter": "python",
   "pygments_lexer": "ipython3",
   "version": "3.7.13"
  }
 },
 "nbformat": 4,
 "nbformat_minor": 5
}
